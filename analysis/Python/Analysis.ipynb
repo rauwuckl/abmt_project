{
 "cells": [
  {
   "cell_type": "code",
   "execution_count": 65,
   "metadata": {},
   "outputs": [],
   "source": [
    "from xml.etree import ElementTree as ET\n",
    "from datetime import timedelta, datetime\n",
    "import numpy as np\n",
    "import matplotlib.pyplot as plt\n",
    "%matplotlib inline\n",
    "\n",
    "def parse_time(time_str):\n",
    "    t = datetime.strptime(time_str,\"%H:%M:%S\")\n",
    "    \n",
    "    delta = timedelta(hours=t.hour, minutes=t.minute, seconds=t.second)\n",
    "    return delta"
   ]
  },
  {
   "cell_type": "code",
   "execution_count": 70,
   "metadata": {},
   "outputs": [],
   "source": [
    "filepath_after = \"/Users/clemens/Documents/courses/abmt/projects/abmt_project/simulations/original/simulation_output/\" + \"output_experienced_plans.xml\""
   ]
  },
  {
   "cell_type": "code",
   "execution_count": null,
   "metadata": {},
   "outputs": [],
   "source": []
  },
  {
   "cell_type": "code",
   "execution_count": 74,
   "metadata": {},
   "outputs": [],
   "source": [
    "def travel_minutes_from_file(path):\n",
    "    tree = ET.parse(path)\n",
    "    \n",
    "    all_travel_times = [parse_time(l.get('trav_time')) for l in tree.findall(\"./person/plan/leg[@mode='car']\")]\n",
    "    all_travel_time_minutes = [t/timedelta(minutes=1) for t in all_travel_times]\n",
    "    return np.array(all_travel_time_minutes)"
   ]
  },
  {
   "cell_type": "code",
   "execution_count": 75,
   "metadata": {},
   "outputs": [
    {
     "data": {
      "text/plain": [
       "(array([6.3535e+04, 1.4660e+04, 4.0550e+03, 1.1970e+03, 2.8800e+02,\n",
       "        8.5000e+01, 3.0000e+01, 1.5000e+01, 1.5000e+01, 2.0000e+00]),\n",
       " array([1.66666667e-02, 1.03223333e+02, 2.06430000e+02, 3.09636667e+02,\n",
       "        4.12843333e+02, 5.16050000e+02, 6.19256667e+02, 7.22463333e+02,\n",
       "        8.25670000e+02, 9.28876667e+02, 1.03208333e+03]),\n",
       " <a list of 10 Patch objects>)"
      ]
     },
     "execution_count": 75,
     "metadata": {},
     "output_type": "execute_result"
    },
    {
     "data": {
      "image/png": "[encoded data removed]",
      "text/plain": [
       "<Figure size 432x288 with 1 Axes>"
      ]
     },
     "metadata": {
      "needs_background": "light"
     },
     "output_type": "display_data"
    }
   ],
   "source": [
    "times_after = travel_minutes_from_file(filepath_after)\n",
    "plt.hist(all_travel_time_minutes)"
   ]
  },
  {
   "cell_type": "code",
   "execution_count": 76,
   "metadata": {},
   "outputs": [
    {
     "data": {
      "text/plain": [
       "17.20138888888889"
      ]
     },
     "execution_count": 76,
     "metadata": {},
     "output_type": "execute_result"
    }
   ],
   "source": [
    "np.max(all_travel_time_minutes)/60"
   ]
  },
  {
   "cell_type": "markdown",
   "metadata": {},
   "source": [
    "# before. I.e. Freeflow times"
   ]
  },
  {
   "cell_type": "code",
   "execution_count": 77,
   "metadata": {},
   "outputs": [
    {
     "data": {
      "text/plain": [
       "(array([4.8729e+04, 2.2228e+04, 8.6140e+03, 3.0460e+03, 8.3100e+02,\n",
       "        3.0200e+02, 1.3400e+02, 3.9000e+01, 1.1000e+01, 4.0000e+00]),\n",
       " array([  0.        ,  10.21333333,  20.42666667,  30.64      ,\n",
       "         40.85333333,  51.06666667,  61.28      ,  71.49333333,\n",
       "         81.70666667,  91.92      , 102.13333333]),\n",
       " <a list of 10 Patch objects>)"
      ]
     },
     "execution_count": 77,
     "metadata": {},
     "output_type": "execute_result"
    },
    {
     "data": {
      "image/png": "[encoded data removed]",
      "text/plain": [
       "<Figure size 432x288 with 1 Axes>"
      ]
     },
     "metadata": {
      "needs_background": "light"
     },
     "output_type": "display_data"
    }
   ],
   "source": [
    "filepath_before = \"/Users/clemens/Documents/courses/abmt/projects/abmt_project/simulations/original/\" + \"ile_de_france_population_diluted_caronly.xml\"\n",
    "times_before = travel_minutes_from_file(filepath_before)\n",
    "plt.hist(times_before)"
   ]
  },
  {
   "cell_type": "code",
   "execution_count": 78,
   "metadata": {},
   "outputs": [
    {
     "data": {
      "text/plain": [
       "102.13333333333334"
      ]
     },
     "execution_count": 78,
     "metadata": {},
     "output_type": "execute_result"
    }
   ],
   "source": []
  },
  {
   "cell_type": "code",
   "execution_count": null,
   "metadata": {},
   "outputs": [],
   "source": []
  }
 ],
 "metadata": {
  "kernelspec": {
   "display_name": "Python 3",
   "language": "python",
   "name": "python3"
  },
  "language_info": {
   "codemirror_mode": {
    "name": "ipython",
    "version": 3
   },
   "file_extension": ".py",
   "mimetype": "text/x-python",
   "name": "python",
   "nbconvert_exporter": "python",
   "pygments_lexer": "ipython3",
   "version": "3.7.0"
  }
 },
 "nbformat": 4,
 "nbformat_minor": 2
}
