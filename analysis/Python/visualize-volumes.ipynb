{
 "cells": [
  {
   "cell_type": "markdown",
   "metadata": {},
   "source": [
    "# Link Volumes Visualization\n",
    "\n",
    "Visualize link volumes using Geopandas.\n",
    "\n",
    "## Setup\n",
    "First define some constants containing paths on your own filesystem."
   ]
  },
  {
   "cell_type": "code",
   "execution_count": 6,
   "metadata": {
    "attributes": {
     "classes": [],
     "id": "",
     "n": "1"
    }
   },
   "outputs": [],
   "source": [
    "# When using a ziped release:\n",
    "import os\n",
    "#CLASSPATH = os.pathsep.join(('path/to/matsim-0.10.1/matsim-0.10.1.jar', 'path/to/matsim-0.10.1/lib/*'))\n",
    "\n",
    "CLASSPATH = r'/Users/clemens/Documents/courses/abmt/projects/abmt_project/simulations/abmt-2018-0.0.1-SNAPSHOT-jar-with-dependencies.jar'\n",
    "OUTPUT_PATH = r'/Users/clemens/Documents/courses/abmt/projects/abmt_project/simulations/original/simulation_output/'\n",
    "\n",
    "# Those constants should not need modification:\n",
    "NETWORK_FILE = OUTPUT_PATH + 'output_network.xml.gz'\n",
    "EVENTS_FILE = OUTPUT_PATH + 'output_events.xml.gz'"
   ]
  },
  {
   "cell_type": "markdown",
   "metadata": {},
   "source": [
    "Standard python imports.\n",
    "\n",
    "For this notebook, you will need [JPype](https://jpype.readthedocs.io/en/latest/), a Python library that allows to use Java classes directly.\n",
    "With anaconda, this can be done by running the following command in the \"anaconda prompt\":\n",
    "\n",
    "```\n",
    "conda install -c conda-forge jpype1\n",
    "```\n",
    "\n",
    "Spatial analysis will be done using `geopandas`, which can be installed the usual way."
   ]
  },
  {
   "cell_type": "code",
   "execution_count": 2,
   "metadata": {
    "attributes": {
     "classes": [],
     "id": "",
     "n": "2"
    }
   },
   "outputs": [],
   "source": [
    "import jpype as jp\n",
    "import jpype.imports as jimport\n",
    "from shutil import rmtree\n",
    "import pandas as pd\n",
    "import geopandas as gpd\n",
    "from shapely.geometry import LineString\n",
    "#import mplleaflet\n",
    "import matplotlib.pyplot as plt\n",
    "\n",
    "%matplotlib inline\n",
    "plt.rcParams['figure.figsize'] = [20, 10]"
   ]
  },
  {
   "cell_type": "markdown",
   "metadata": {},
   "source": [
    "Java connection magic:\n",
    "1. register the \"org\" domain, to have access to all\n",
    "\"org.some.thing\" java packages\n",
    "   as if they were python packages.\n",
    "2. start the\n",
    "java virtual machine, with MATSim on the classpath (the path were\n",
    "   libraries\n",
    "are searched for)"
   ]
  },
  {
   "cell_type": "code",
   "execution_count": 3,
   "metadata": {
    "attributes": {
     "classes": [],
     "id": "",
     "n": "3"
    }
   },
   "outputs": [],
   "source": [
    "jimport.registerDomain('org')\n",
    "jp.startJVM(jp.getDefaultJVMPath(), '-Djava.class.path=%s' % CLASSPATH,  '-Xmx1g')\n"
   ]
  },
  {
   "cell_type": "markdown",
   "metadata": {},
   "source": [
    "Now we can import any MATSim class as if they were python:"
   ]
  },
  {
   "cell_type": "code",
   "execution_count": 4,
   "metadata": {
    "attributes": {
     "classes": [],
     "id": "",
     "n": "6"
    }
   },
   "outputs": [],
   "source": [
    "from org.matsim.core.scenario import ScenarioUtils\n",
    "from org.matsim.core.config import ConfigUtils\n",
    "from org.matsim.api.core.v01 import Id\n",
    "from org.matsim.core.controler import Controler\n",
    "from org.matsim.core.controler.OutputDirectoryHierarchy import OverwriteFileSetting\n",
    "from org.matsim.api.core.v01.events.handler import LinkEnterEventHandler, LinkLeaveEventHandler, VehicleEntersTrafficEventHandler, VehicleLeavesTrafficEventHandler\n",
    "from org.matsim.core.events import EventsUtils, MatsimEventsReader"
   ]
  },
  {
   "cell_type": "markdown",
   "metadata": {},
   "source": [
    "##  Setup Scenario\n",
    "\n",
    "Create a MATSim Scenario and load the network.\n",
    "Note that code completion for java classes does not work very well: it is a good idea to still have a Java IDE open on the side."
   ]
  },
  {
   "cell_type": "code",
   "execution_count": null,
   "metadata": {
    "attributes": {
     "classes": [],
     "id": "",
     "n": "4"
    }
   },
   "outputs": [],
   "source": [
    "config = ConfigUtils.createConfig()\n",
    "\n",
    "# Set input files in the config object\n",
    "config.network().setInputFile(NETWORK_FILE)\n",
    "\n",
    "scenario = ScenarioUtils.loadScenario(config)"
   ]
  },
  {
   "cell_type": "markdown",
   "metadata": {},
   "source": [
    "## Network\n",
    "\n",
    "We transform the MATSim network to a GeoPandas data frame and\n",
    "display it."
   ]
  },
  {
   "cell_type": "code",
   "execution_count": null,
   "metadata": {
    "attributes": {
     "classes": [],
     "id": "",
     "n": "5"
    }
   },
   "outputs": [],
   "source": [
    "def to_frame(network, crs):\n",
    "    def to_lines(network):\n",
    "        for link in network.getLinks().values():\n",
    "            start_coord = link.getFromNode().getCoord()\n",
    "            end_coord = link.getToNode().getCoord()\n",
    "            # TODO add Id\n",
    "            yield {\n",
    "                'id': link.getId().toString(),\n",
    "                'length': link.getLength(),\n",
    "                'geometry': LineString([(start_coord.getX(), start_coord.getY()), (end_coord.getX(), end_coord.getY())])\n",
    "            }\n",
    "\n",
    "    network_frame = gpd.GeoDataFrame.from_records(list(to_lines(network)))\n",
    "    network_frame.crs = {'init': crs}\n",
    "    return network_frame\n",
    "\n",
    "network_frame = to_frame(scenario.getNetwork(), 'epsg:2154')"
   ]
  },
  {
   "cell_type": "code",
   "execution_count": null,
   "metadata": {
    "attributes": {
     "classes": [],
     "id": "",
     "n": "5"
    }
   },
   "outputs": [],
   "source": [
    "ax = network_frame.plot(linewidth=0.1)"
   ]
  },
  {
   "cell_type": "code",
   "execution_count": null,
   "metadata": {
    "attributes": {
     "classes": [],
     "id": "",
     "n": "5"
    }
   },
   "outputs": [],
   "source": [
    "ax.set_xlim(640000,660000)\n",
    "ax.set_ylim(6855000,6870000)\n",
    "ax.figure"
   ]
  },
  {
   "cell_type": "markdown",
   "metadata": {},
   "source": [
    "`mplleaflet` allows to have a zoomable map with a background, but does not\n",
    "render in the static version (eg. on Github):"
   ]
  },
  {
   "cell_type": "code",
   "execution_count": null,
   "metadata": {
    "attributes": {
     "classes": [],
     "id": "",
     "n": "6"
    }
   },
   "outputs": [],
   "source": [
    "#mplleaflet.display(fig=ax.figure, crs=network_frame.crs, tiles='esri_natgeo')"
   ]
  },
  {
   "cell_type": "markdown",
   "metadata": {},
   "source": [
    "## Event Handler\n",
    "\n",
    "We create an handler that collects time-binned link volumes in\n",
    "a data frame."
   ]
  },
  {
   "cell_type": "code",
   "execution_count": null,
   "metadata": {
    "attributes": {
     "classes": [],
     "id": "",
     "n": "7"
    }
   },
   "outputs": [],
   "source": [
    "class VolumeHandler:\n",
    "    ####################################################################\n",
    "    # Methods for the python side\n",
    "    ####################################################################\n",
    "    def __init__(self, start_h, end_h):\n",
    "        self.volumes = {}\n",
    "        self.start = start_h * 3600\n",
    "        self.end = end_h * 3600\n",
    "\n",
    "    def get_volumes(self):\n",
    "        volumes = pd.DataFrame.from_records([(k,v) for k, v in self.volumes.items()], columns=('link','volume'))\n",
    "        volumes = network_frame.merge(volumes, how='outer', left_on='id', right_on='link')\n",
    "        volumes.volume = volumes.volume.fillna(0)\n",
    "        return volumes\n",
    "        \n",
    "    ####################################################################\n",
    "    # Methods for the java side\n",
    "    ####################################################################\n",
    "        \n",
    "    def handleEvent(self, event):\n",
    "        time = event.getTime()\n",
    "        if (time < self.start or time > self.end):\n",
    "            return\n",
    "\n",
    "        link = event.getLinkId().toString()\n",
    "        if link in self.volumes:\n",
    "            self.volumes[link] += 1\n",
    "        else:\n",
    "            self.volumes[link] = 1\n",
    "        \n",
    "    def reset(self, iteration):\n",
    "        pass\n",
    "    \n",
    "    # JProxy does not provide default implementation for those methods:\n",
    "    # provide one, to avoid crashes.\n",
    "    # In true python way, the JProxy checks if a method exists only if actually\n",
    "    # invoked.\n",
    "    def hashCode(self):\n",
    "        return 42\n",
    "    \n",
    "    def toString(self):\n",
    "        return \"%s\" % self\n",
    "\n",
    "handler = VolumeHandler(8,10)\n",
    "handlerProxy = jp.JProxy((LinkLeaveEventHandler, LinkEnterEventHandler, VehicleEntersTrafficEventHandler, VehicleLeavesTrafficEventHandler), inst=handler)"
   ]
  },
  {
   "cell_type": "markdown",
   "metadata": {},
   "source": [
    "## Parse Events"
   ]
  },
  {
   "cell_type": "code",
   "execution_count": null,
   "metadata": {
    "attributes": {
     "classes": [],
     "id": "",
     "n": "8"
    }
   },
   "outputs": [],
   "source": [
    "events = EventsUtils.createEventsManager()\n",
    "\n",
    "events.addHandler(handlerProxy)\n",
    "\n",
    "MatsimEventsReader(events).readFile(EVENTS_FILE)"
   ]
  },
  {
   "cell_type": "markdown",
   "metadata": {},
   "source": [
    "## Analysis"
   ]
  },
  {
   "cell_type": "code",
   "execution_count": null,
   "metadata": {
    "attributes": {
     "classes": [],
     "id": "",
     "n": "12"
    }
   },
   "outputs": [],
   "source": [
    "volumes = handler.get_volumes()"
   ]
  },
  {
   "cell_type": "code",
   "execution_count": null,
   "metadata": {},
   "outputs": [],
   "source": [
    "volumes.query('volume > 0').volume.describe()"
   ]
  },
  {
   "cell_type": "code",
   "execution_count": null,
   "metadata": {
    "attributes": {
     "classes": [],
     "id": "",
     "n": "12"
    }
   },
   "outputs": [],
   "source": [
    "ax = volumes.query('volume > 0').plot(column='volume', scheme='quantiles', cmap='jet', linewidth=0.4, legend=True)\n",
    "ax.set_xlim(645000,658000)\n",
    "ax.set_ylim(6857000,6868000)"
   ]
  },
  {
   "cell_type": "code",
   "execution_count": null,
   "metadata": {},
   "outputs": [],
   "source": []
  },
  {
   "cell_type": "code",
   "execution_count": null,
   "metadata": {},
   "outputs": [],
   "source": []
  }
 ],
 "metadata": {
  "kernelspec": {
   "display_name": "Python 3",
   "language": "python",
   "name": "python3"
  },
  "language_info": {
   "codemirror_mode": {
    "name": "ipython",
    "version": 3
   },
   "file_extension": ".py",
   "mimetype": "text/x-python",
   "name": "python",
   "nbconvert_exporter": "python",
   "pygments_lexer": "ipython3",
   "version": "3.6.6"
  }
 },
 "nbformat": 4,
 "nbformat_minor": 2
}
